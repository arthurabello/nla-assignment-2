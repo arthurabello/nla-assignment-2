{
 "cells": [
  {
   "cell_type": "markdown",
   "id": "c1514f5f",
   "metadata": {},
   "source": [
    "Plotting the Condition Number of Problem 1 b)"
   ]
  },
  {
   "cell_type": "code",
   "execution_count": 40,
   "id": "7e6bd6f1",
   "metadata": {},
   "outputs": [
    {
     "name": "stderr",
     "output_type": "stream",
     "text": [
      "/tmp/ipykernel_31064/3345158306.py:18: RuntimeWarning: divide by zero encountered in scalar divide\n",
      "  [(m + 1) / 2,  (m + 1)**2 / (3 * m)]\n"
     ]
    },
    {
     "data": {
      "image/png": "[encoded data removed]",
      "text/plain": [
       "<Figure size 640x480 with 1 Axes>"
      ]
     },
     "metadata": {},
     "output_type": "display_data"
    }
   ],
   "source": [
    "import numpy as np\n",
    "import matplotlib.pyplot as plt\n",
    "\n",
    "def cond_number(m):\n",
    "\n",
    "    \"\"\"\n",
    "    Args:\n",
    "        m (float): parameter for the matrix A(m)\n",
    "    Returns:\n",
    "        float: condition number of A(m)\n",
    "    Raises:\n",
    "        ZeroDivisionError: if m = 0\n",
    "        np.linalg.LinAlgError: if A(m) is not invertible\n",
    "    \"\"\"\n",
    "\n",
    "    A = np.array([\n",
    "        [m + 1,          (m + 1) / 2],\n",
    "        [(m + 1) / 2,  (m + 1)**2 / (3 * m)]\n",
    "    ])\n",
    "    A_inv = np.linalg.inv(A)\n",
    "    return np.linalg.norm(A, 2) * np.linalg.norm(A_inv, 2)\n",
    "\n",
    "def main(): \n",
    "    M = float(input(\"Enter maximum m (M > 0): \"))\n",
    "    N = int(input(\"Enter number of sample points: \")) #however the user wants to plot \n",
    "\n",
    "    m_vals = np.linspace(0, M, N)\n",
    "    conds  = []\n",
    "\n",
    "    for m in m_vals:\n",
    "        try:\n",
    "            conds.append(cond_number(m))\n",
    "        except (ZeroDivisionError, np.linalg.LinAlgError):\n",
    "            conds.append(np.inf) #if it is not invertible\n",
    "\n",
    "    plt.figure()\n",
    "    plt.plot(m_vals, conds)\n",
    "    plt.xlabel('m')\n",
    "    plt.ylabel('Condition number κ₂(A)')\n",
    "    plt.title('Condition number of A(m)')\n",
    "    plt.grid(True)\n",
    "    plt.tight_layout()\n",
    "    plt.show()\n",
    "\n",
    "if __name__ == \"__main__\":\n",
    "    main()"
   ]
  },
  {
   "cell_type": "markdown",
   "id": "5bbd0ffd",
   "metadata": {},
   "source": [
    "poly_ls(m,n) -> problem 1 c)"
   ]
  },
  {
   "cell_type": "code",
   "execution_count": 41,
   "id": "fbf751ea",
   "metadata": {},
   "outputs": [
    {
     "name": "stdout",
     "output_type": "stream",
     "text": [
      "m = 1, n = 1:\n",
      "[[2. 1.]\n",
      " [1. 1.]]\n",
      "\n",
      "m = 2, n = 2:\n",
      "[[3.    1.5   1.25 ]\n",
      " [1.5   1.25  1.125]\n",
      " [1.25  1.125 1.062]]\n",
      "\n",
      "m = 2, n = 3:\n",
      "[[3.    1.5   1.25  1.125]\n",
      " [1.5   1.25  1.125 1.062]\n",
      " [1.25  1.125 1.062 1.031]\n",
      " [1.125 1.062 1.031 1.016]]\n",
      "\n"
     ]
    }
   ],
   "source": [
    "import numpy as np\n",
    "\n",
    "def poly_ls(m, n):\n",
    "\n",
    "    \"\"\"\n",
    "    Build the (n+1) x (n+1) matrix A for least-squares polynomial fitting.\n",
    "    \n",
    "    Args:\n",
    "        m (int): number of subintervals (m >= 0)\n",
    "        n (int): polynomial degree (n >= 0)\n",
    "    Returns:\n",
    "        np.ndarray: shape (n+1, n+1) Gram matrix\n",
    "    Raises:\n",
    "        ValueError: if m or n is negative or not integer\n",
    "    \"\"\"\n",
    "\n",
    "    if not isinstance(m, int) or not isinstance(n, int):\n",
    "        raise ValueError(\"m and n must be integers\")\n",
    "    if m < 0 or n < 0:\n",
    "        raise ValueError(\"m and n must be non-negative\")\n",
    "\n",
    "    x = np.linspace(0, 1, m+1) #sample space\n",
    "\n",
    "    A = np.zeros((n+1, n+1), dtype=float) #intializes 0 matrix to be filled\n",
    "    np.set_printoptions(precision=3, suppress=True)\n",
    "    for j in range(n+1):\n",
    "        for k in range(n+1):\n",
    "            A[j, k] = np.sum(x**(j + k)) #fills each entry\n",
    "\n",
    "    return A\n",
    "\n",
    "for m, n in [(1, 1), (2, 2), (2, 3)]: #trivial examples\n",
    "    M = poly_ls(m, n)\n",
    "    print(f\"m = {m}, n = {n}:\")\n",
    "    print(M, end=\"\\n\\n\")\n"
   ]
  }
 ],
 "metadata": {
  "kernelspec": {
   "display_name": "Python 3",
   "language": "python",
   "name": "python3"
  },
  "language_info": {
   "codemirror_mode": {
    "name": "ipython",
    "version": 3
   },
   "file_extension": ".py",
   "mimetype": "text/x-python",
   "name": "python",
   "nbconvert_exporter": "python",
   "pygments_lexer": "ipython3",
   "version": "3.12.3"
  }
 },
 "nbformat": 4,
 "nbformat_minor": 5
}
